﻿{
 "cells": [
  {
   "cell_type": "markdown",
   "metadata": {},
   "source": [
    "# Audio Deepfake Detection - Quick Start\n",
    "\n",
    "This notebook walks you through the basics of the project."
   ]
  },
  {
   "cell_type": "code",
   "execution_count": null,
   "metadata": {},
   "outputs": [],
   "source": [
    "# Import dependencies\n",
    "import os\n",
    "import pandas as pd\n",
    "import numpy as np\n",
    "import librosa\n",
    "import matplotlib.pyplot as plt\n",
    "\n",
    "# Import project modules\n",
    "import sys\n",
    "sys.path.append('..')\n",
    "from data_collection import AudioDataCollector\n",
    "from audio_preprocessing import AudioProcessor"
   ]
  },
  {
   "cell_type": "markdown",
   "metadata": {},
   "source": [
    "## 1. Initialize Data Collection"
   ]
  },
  {
   "cell_type": "code",
   "execution_count": null,
   "metadata": {},
   "outputs": [],
   "source": [
    "# Initialize the collector\n",
    "collector = AudioDataCollector()\n",
    "\n",
    "# Download a sample dataset\n",
    "collector.download_sample_dataset()\n",
    "\n",
    "# Display statistics\n",
    "collector.print_dataset_stats()"
   ]
  },
  {
   "cell_type": "markdown",
   "metadata": {},
   "source": [
    "## 2. Audio Preprocessing"
   ]
  },
  {
   "cell_type": "code",
   "execution_count": null,
   "metadata": {},
   "outputs": [],
   "source": [
    "# Initialize the processor\n",
    "processor = AudioProcessor(collector)\n",
    "\n",
    "# Preprocess all files\n",
    "processor.preprocess_all()\n",
    "\n",
    "# Segment audio\n",
    "segments = processor.segment_audio(segment_duration=3)\n",
    "\n",
    "# Display the first few segments\n",
    "segments.head()"
   ]
  }
 ],
 "metadata": {
  "kernelspec": {
   "display_name": "Python 3",
   "language": "python",
   "name": "python3"
  },
  "language_info": {
   "codemirror_mode": {
    "name": "ipython",
    "version": 3
   },
   "file_extension": ".py",
   "mimetype": "text/x-python",
   "name": "python",
   "nbconvert_exporter": "python",
   "pygments_lexer": "ipython3",
   "version": "3.9.7"
  }
 },
 "nbformat": 4,
 "nbformat_minor": 4
}
